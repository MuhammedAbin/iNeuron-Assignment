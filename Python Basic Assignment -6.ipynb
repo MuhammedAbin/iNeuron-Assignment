{
 "cells": [
  {
   "cell_type": "markdown",
   "metadata": {},
   "source": [
    "# 1. Write a Python Program to Display Fibonacci Sequence Using Recursion?"
   ]
  },
  {
   "cell_type": "code",
   "execution_count": 2,
   "metadata": {},
   "outputs": [
    {
     "name": "stdout",
     "output_type": "stream",
     "text": [
      "Enter the range: 5\n",
      "Fibonacci series of entered range is: \n",
      "0\n",
      "1\n",
      "1\n",
      "2\n",
      "3\n"
     ]
    }
   ],
   "source": [
    "def Fibonacci(n):  \n",
    "    if (n<= 1):  \n",
    "        return n  \n",
    "    else:  \n",
    "        return(Fibonacci(n-1) + Fibonacci(n-2))  \n",
    "n = int(input(\"Enter the range: \"))  \n",
    "if n <= 0:  \n",
    "    print(\"Plese enter a positive integer\")  \n",
    "else:  \n",
    "    print(\"Fibonacci series of entered range is: \")  \n",
    "    for i in range(n):  \n",
    "        print(Fibonacci(i))  "
   ]
  },
  {
   "cell_type": "markdown",
   "metadata": {},
   "source": [
    "# 2. Write a Python Program to Find Factorial of Number Using Recursion?"
   ]
  },
  {
   "cell_type": "code",
   "execution_count": 14,
   "metadata": {},
   "outputs": [
    {
     "name": "stdout",
     "output_type": "stream",
     "text": [
      "Enter the number to find its factorial: 7\n",
      "Factorial of  7  is  5040\n"
     ]
    }
   ],
   "source": [
    "def Factorial(x):\n",
    "    if(x==1):\n",
    "        return x\n",
    "    else:\n",
    "        fact=x*Factorial(x-1)\n",
    "        return fact\n",
    "x=int(input(\"Enter the number to find its factorial: \"))\n",
    "print(\"Factorial of \",x,\" is \", Factorial(x) )"
   ]
  },
  {
   "cell_type": "markdown",
   "metadata": {},
   "source": [
    "# 3. Write a Python Program to calculate your Body Mass Index?"
   ]
  },
  {
   "cell_type": "code",
   "execution_count": 11,
   "metadata": {},
   "outputs": [
    {
     "name": "stdout",
     "output_type": "stream",
     "text": [
      "Enter your height in centimeters: 105.4\n",
      "Enter your weight in kilograms: 16.9 \n",
      "Your Body Mass Index is  15.212671345088195\n"
     ]
    }
   ],
   "source": [
    "height=float(input(\"Enter your height in centimeters: \"))\n",
    "weight=float(input(\"Enter your weight in kilograms: \"))\n",
    "bmi = (weight/height/height)*10000\n",
    "print(\"Your Body Mass Index is \", bmi)"
   ]
  },
  {
   "cell_type": "markdown",
   "metadata": {},
   "source": [
    "# 4. Write a Python Program to calculate the natural logarithm of any number?"
   ]
  },
  {
   "cell_type": "code",
   "execution_count": 3,
   "metadata": {},
   "outputs": [
    {
     "name": "stdout",
     "output_type": "stream",
     "text": [
      "Enter the number to find its logarithm: 5\n",
      "Logarithm of  5 is 1.6094379124341003\n"
     ]
    }
   ],
   "source": [
    "n=int(input(\"Enter the number to find its logarithm: \"))\n",
    "import numpy as np\n",
    "print(\"Logarithm of \", n , \"is\", np.log(n))"
   ]
  },
  {
   "cell_type": "markdown",
   "metadata": {},
   "source": [
    "# 5. Write a Python Program for cube sum of first n natural numbers?"
   ]
  },
  {
   "cell_type": "code",
   "execution_count": 8,
   "metadata": {},
   "outputs": [
    {
     "name": "stdout",
     "output_type": "stream",
     "text": [
      "Enter the range: 2\n",
      "Cube sum of  2  numbers is  9\n"
     ]
    }
   ],
   "source": [
    "a=int(input(\"Enter the range: \"))\n",
    "sum=0\n",
    "for i in range(1,a+1):\n",
    "    sum=sum+(i**3)\n",
    "print(\"Cube sum of \", a,\" numbers is \", sum)"
   ]
  }
 ],
 "metadata": {
  "kernelspec": {
   "display_name": "Python 3",
   "language": "python",
   "name": "python3"
  },
  "language_info": {
   "codemirror_mode": {
    "name": "ipython",
    "version": 3
   },
   "file_extension": ".py",
   "mimetype": "text/x-python",
   "name": "python",
   "nbconvert_exporter": "python",
   "pygments_lexer": "ipython3",
   "version": "3.8.3"
  }
 },
 "nbformat": 4,
 "nbformat_minor": 4
}
