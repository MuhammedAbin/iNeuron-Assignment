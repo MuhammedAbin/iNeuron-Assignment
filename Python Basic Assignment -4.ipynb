{
 "cells": [
  {
   "cell_type": "markdown",
   "metadata": {},
   "source": [
    "# 1. Write a Python Program to Display the multiplication Table?"
   ]
  },
  {
   "cell_type": "code",
   "execution_count": 3,
   "metadata": {},
   "outputs": [
    {
     "name": "stdout",
     "output_type": "stream",
     "text": [
      "Enter the Number to find its multiplication table 5\n",
      "The Multiplication Table of 5 is\n",
      "5 X 1 = 5\n",
      "5 X 2 = 10\n",
      "5 X 3 = 15\n",
      "5 X 4 = 20\n",
      "5 X 5 = 25\n",
      "5 X 6 = 30\n",
      "5 X 7 = 35\n",
      "5 X 8 = 40\n",
      "5 X 9 = 45\n",
      "5 X 10 = 50\n"
     ]
    }
   ],
   "source": [
    "a=int(input(\"Enter the Number to find its multiplication table \"))\n",
    "print(\"The Multiplication Table of {} is\".format(a))\n",
    "for i in range(1,11):\n",
    "    print(\"{} X {} = {}\".format(a,i,a*i))"
   ]
  },
  {
   "cell_type": "markdown",
   "metadata": {},
   "source": [
    "# 2. Write a Python Program to Print the Fibonacci sequence?"
   ]
  },
  {
   "cell_type": "code",
   "execution_count": 5,
   "metadata": {},
   "outputs": [
    {
     "name": "stdout",
     "output_type": "stream",
     "text": [
      "Enter the Number 10\n",
      "Fibonacci sequence Of 10 is\n",
      "0\n",
      "1\n",
      "1\n",
      "1\n",
      "2\n",
      "3\n",
      "5\n",
      "8\n",
      "13\n",
      "21\n",
      "34\n"
     ]
    }
   ],
   "source": [
    "a=int(input(\"Enter the Number \"))\n",
    "fib=0\n",
    "b=1\n",
    "print(\"Fibonacci sequence Of {} is\".format(a))\n",
    "print(fib)\n",
    "print(b)\n",
    "for i in range(1,a):\n",
    "    b,fib=fib,fib+b\n",
    "    print(fib)"
   ]
  },
  {
   "cell_type": "markdown",
   "metadata": {},
   "source": [
    "# 3. Write a Python Program to Check Armstrong Number?"
   ]
  },
  {
   "cell_type": "code",
   "execution_count": 13,
   "metadata": {},
   "outputs": [
    {
     "name": "stdout",
     "output_type": "stream",
     "text": [
      "Enter the number407\n",
      "407 is Amstrong\n"
     ]
    }
   ],
   "source": [
    "a=int(input(\"Enter the number\"))\n",
    "st=str(a)\n",
    "am=0\n",
    "for i in range(len(st)):\n",
    "    b=int(st[i])\n",
    "    am=am+(b**3)\n",
    "if(a==am):\n",
    "    print(\"{} is Amstrong\".format(a))\n",
    "else:\n",
    "    print(\"{} is not Amstrong\".format(a))"
   ]
  },
  {
   "cell_type": "markdown",
   "metadata": {},
   "source": [
    "# 4. Write a Python Program to Find Armstrong Number in an Interval?"
   ]
  },
  {
   "cell_type": "code",
   "execution_count": 12,
   "metadata": {},
   "outputs": [
    {
     "name": "stdout",
     "output_type": "stream",
     "text": [
      "Enter the interval 500\n",
      "1\n",
      "153\n",
      "370\n",
      "371\n",
      "407\n"
     ]
    }
   ],
   "source": [
    "x=int(input(\"Enter the interval \"))\n",
    "for i in range(1,x):\n",
    "    st=str(i)\n",
    "    am=0\n",
    "    for j in range(len(st)):\n",
    "        b=int(st[j])\n",
    "        am=am+(b**3)\n",
    "    if(i==am):\n",
    "        print(i)"
   ]
  },
  {
   "cell_type": "markdown",
   "metadata": {},
   "source": [
    "# 5. Write a Python Program to Find the Sum of Natural Numbers?"
   ]
  },
  {
   "cell_type": "code",
   "execution_count": 15,
   "metadata": {},
   "outputs": [
    {
     "name": "stdout",
     "output_type": "stream",
     "text": [
      "Enter the interval 100\n",
      "Sum of 100 natural numbers is 4950\n"
     ]
    }
   ],
   "source": [
    "x=int(input(\"Enter the interval \"))\n",
    "sum=0\n",
    "for i in range(x):\n",
    "    sum=sum+i\n",
    "print(\"Sum of {} natural numbers is {}\".format(x,sum))"
   ]
  },
  {
   "cell_type": "markdown",
   "metadata": {},
   "source": [
    "# 6. Write a Python Program to Find the Factorial of a Number?"
   ]
  },
  {
   "cell_type": "code",
   "execution_count": 31,
   "metadata": {},
   "outputs": [
    {
     "name": "stdout",
     "output_type": "stream",
     "text": [
      "Enter the Number to find factorial 5\n",
      "Factorial of 5 is 120\n"
     ]
    }
   ],
   "source": [
    "a=int(input(\"Enter the Number to find factorial \"))\n",
    "fact=1\n",
    "for i in range(1,a+1):\n",
    "    fact=fact*i\n",
    "print(\"Factorial of {} is {}\".format(a,fact))   "
   ]
  }
 ],
 "metadata": {
  "kernelspec": {
   "display_name": "Python 3",
   "language": "python",
   "name": "python3"
  },
  "language_info": {
   "codemirror_mode": {
    "name": "ipython",
    "version": 3
   },
   "file_extension": ".py",
   "mimetype": "text/x-python",
   "name": "python",
   "nbconvert_exporter": "python",
   "pygments_lexer": "ipython3",
   "version": "3.8.3"
  }
 },
 "nbformat": 4,
 "nbformat_minor": 4
}
