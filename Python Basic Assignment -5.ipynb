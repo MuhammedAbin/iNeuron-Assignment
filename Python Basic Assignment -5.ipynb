{
 "cells": [
  {
   "cell_type": "markdown",
   "metadata": {},
   "source": [
    "# 1. Write a Python Program to Find LCM?"
   ]
  },
  {
   "cell_type": "code",
   "execution_count": 12,
   "metadata": {
    "scrolled": false
   },
   "outputs": [
    {
     "name": "stdout",
     "output_type": "stream",
     "text": [
      "Enter the range of your input 3\n",
      "Enter the number 4\n",
      "Enter the number 6\n",
      "Enter the number 8\n",
      "The LCM of entered numbers is 24\n"
     ]
    }
   ],
   "source": [
    "# Given some numbers, LCM of these numbers is the smallest positive integer that is divisible by all the numbers numbers\n",
    "def LCM(ls): \n",
    "    lar = max(ls) \n",
    "    flag=1\n",
    "    while(flag==1):  \n",
    "        for i in ls:\n",
    "            if(lar%i!=0):  \n",
    "                flag=1\n",
    "                break  \n",
    "            else:\n",
    "                flag=0\n",
    "                continue\n",
    "        lcm=lar\n",
    "        lar += 1  \n",
    "    return lcm  \n",
    "n=int(input(\"Enter the range of your input \"))\n",
    "ls=[]\n",
    "for i in range(n):\n",
    "    a=int(input(\"Enter the number \"))\n",
    "    ls.append(a)\n",
    "print(\"The LCM of entered numbers is\", LCM(ls))"
   ]
  },
  {
   "cell_type": "markdown",
   "metadata": {},
   "source": [
    "# 2. Write a Python Program to Find HCF?"
   ]
  },
  {
   "cell_type": "code",
   "execution_count": 15,
   "metadata": {},
   "outputs": [
    {
     "name": "stdout",
     "output_type": "stream",
     "text": [
      "Enter the range of your input 3\n",
      "Enter the number 4\n",
      "Enter the number 6\n",
      "Enter the number 8\n",
      "The LCM of entered numbers is 2\n"
     ]
    }
   ],
   "source": [
    "def HCF(ls):\n",
    "    lar=0\n",
    "    for i in range(2,min(ls)+1) :\n",
    "        count=0\n",
    "        for j in ls:\n",
    "            if j%i==0:\n",
    "                count=count+1\n",
    "        if count==len(ls):\n",
    "            lar=i\n",
    "    return lar\n",
    "    if count!=len(ls):\n",
    "        return 1\n",
    "n=int(input(\"Enter the range of your input \"))\n",
    "ls=[]\n",
    "for i in range(n):\n",
    "    a=int(input(\"Enter the number \"))\n",
    "    ls.append(a)\n",
    "print(\"The LCM of entered numbers is\", HCF(ls))"
   ]
  },
  {
   "cell_type": "markdown",
   "metadata": {},
   "source": [
    "# 3. Write a Python Program to Convert Decimal to Binary, Octal and Hexadecimal?"
   ]
  },
  {
   "cell_type": "code",
   "execution_count": 5,
   "metadata": {},
   "outputs": [
    {
     "name": "stdout",
     "output_type": "stream",
     "text": [
      "Enter the Decimal value: 15\n",
      "Binary of 15 is 1111 \n",
      "Octal of 15 is 17 \n",
      "Hexadecimal of 15 is F \n"
     ]
    }
   ],
   "source": [
    "a=int(input(\"Enter the Decimal value: \"))\n",
    "def ToBinary(x):\n",
    "    binary=\" \"\n",
    "    while(x!=0 and x>0):\n",
    "        binary=binary+str(x%2)\n",
    "        x=int(x/2)\n",
    "    return(binary[::-1])\n",
    "def ToOctal(x):\n",
    "    if(x<8):\n",
    "        print(x)\n",
    "    else:\n",
    "        octal=\" \"\n",
    "        while(x!=0 and x>0):\n",
    "            octal=octal+str(x%8)\n",
    "            x=int(x/8)\n",
    "    return(octal[::-1])\n",
    "def ToHexa(x):\n",
    "    if(x<10):\n",
    "        print(x)\n",
    "    else:\n",
    "        ls={10:\"A\", 11:\"B\", 12:\"C\", 13:\"D\", 14:\"E\", 15:\"F\"}\n",
    "        Hexa=\" \"\n",
    "        while(x!=0 and x>0):\n",
    "            if(x%16) in ls.keys():\n",
    "                Hexa=Hexa+ls[x%16]\n",
    "            else:\n",
    "                Hexa=Hexa+str(x%16)\n",
    "            x=int(x/16)\n",
    "    return(Hexa[::-1])\n",
    "print(\"Binary of\",a,\"is\", ToBinary(a))\n",
    "print(\"Octal of\",a,\"is\", ToOctal(a))\n",
    "print(\"Hexadecimal of\",a,\"is\", ToHexa(a))"
   ]
  },
  {
   "cell_type": "markdown",
   "metadata": {},
   "source": [
    "# 4. Write a Python Program To Find ASCII value of a character?"
   ]
  },
  {
   "cell_type": "code",
   "execution_count": 8,
   "metadata": {},
   "outputs": [
    {
     "name": "stdout",
     "output_type": "stream",
     "text": [
      "Enter the character to find ASCII: g\n",
      "ASCII of  g is 103\n"
     ]
    }
   ],
   "source": [
    "a=input(\"Enter the character to find ASCII: \")\n",
    "print(\"ASCII of \",a ,\"is\", ord(a))"
   ]
  },
  {
   "cell_type": "markdown",
   "metadata": {},
   "source": [
    "# 5.Write a Python Program to Make a Simple Calculator with 4 basic mathematical operations?"
   ]
  },
  {
   "cell_type": "code",
   "execution_count": 15,
   "metadata": {},
   "outputs": [
    {
     "name": "stdout",
     "output_type": "stream",
     "text": [
      "Choose your Calculator Operation: \n",
      "1 : Addition\n",
      "2 : Subtraction\n",
      "3 : Multipilication\n",
      "4 : Division\n",
      "Enter Your Selection: 1\n",
      "Enter Your 1st number: 5\n",
      "Enter Your 2nd number: 5\n",
      "You chose addition: \n",
      "The result of your opperation is 10\n"
     ]
    }
   ],
   "source": [
    "class Calculator:\n",
    "    def Add(self,x,y):\n",
    "        return x+y\n",
    "    def Subtract(self,x,y):\n",
    "        return x-y\n",
    "    def Multiply(self,x,y):\n",
    "        return x*y\n",
    "    def Divide(self,x,y):\n",
    "        try:\n",
    "            return x/y\n",
    "        except Exception as es:\n",
    "            print(\"An error has occured\",es)\n",
    "Calc = Calculator()\n",
    "print(\"Choose your Calculator Operation: \")\n",
    "print(\"1 : Addition\")\n",
    "print(\"2 : Subtraction\")\n",
    "print(\"3 : Multipilication\")\n",
    "print(\"4 : Division\")\n",
    "a=int(input(\"Enter Your Selection: \"))\n",
    "x=int(input(\"Enter Your 1st number: \"))\n",
    "y=int(input(\"Enter Your 2nd number: \"))\n",
    "if(a==1):\n",
    "    print(\"You chose Addition: \")\n",
    "    print(\"The result of your operation is\", Calc.Add(x,y))\n",
    "elif(a==2):\n",
    "    print(\"You chose Subtraction: \")\n",
    "    print(\"The result of your operation is\", Calc.Subtract(x,y))\n",
    "elif(a==3):\n",
    "    print(\"You chose Multipilication: \")\n",
    "    print(\"The result of your operation is\", Calc.Multiply(x,y))\n",
    "elif(a==4):\n",
    "    print(\"You chose Division: \")\n",
    "    print(\"The result of your operation is\", Calc.Divide(x,y))\n",
    "else:\n",
    "    print(\"You chose a wrong operation\")"
   ]
  },
  {
   "cell_type": "code",
   "execution_count": null,
   "metadata": {},
   "outputs": [],
   "source": []
  }
 ],
 "metadata": {
  "kernelspec": {
   "display_name": "Python 3",
   "language": "python",
   "name": "python3"
  },
  "language_info": {
   "codemirror_mode": {
    "name": "ipython",
    "version": 3
   },
   "file_extension": ".py",
   "mimetype": "text/x-python",
   "name": "python",
   "nbconvert_exporter": "python",
   "pygments_lexer": "ipython3",
   "version": "3.8.3"
  }
 },
 "nbformat": 4,
 "nbformat_minor": 4
}
