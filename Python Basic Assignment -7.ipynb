{
 "cells": [
  {
   "cell_type": "markdown",
   "metadata": {},
   "source": [
    "# 1. Write a Python Program to find sum of array?"
   ]
  },
  {
   "cell_type": "code",
   "execution_count": 6,
   "metadata": {},
   "outputs": [
    {
     "name": "stdout",
     "output_type": "stream",
     "text": [
      "Enter the range: 5\n",
      "Enter the number: 1\n",
      "Enter the number: 2\n",
      "Enter the number: 3\n",
      "Enter the number: 4\n",
      "Enter the number: 5\n",
      "The Entered array is: [1 2 3 4 5]\n",
      "Sum of array is:  15\n"
     ]
    }
   ],
   "source": [
    "import numpy as np\n",
    "n=int(input(\"Enter the range: \"))\n",
    "ls=[]\n",
    "for i in range(n):\n",
    "    ls.append(int(input(\"Enter the number: \")))\n",
    "array = np.array(ls)\n",
    "print(\"The Entered array is:\", array)\n",
    "sum=0\n",
    "for i in array:\n",
    "    sum=sum+i\n",
    "print(\"Sum of array is: \",sum)"
   ]
  },
  {
   "cell_type": "markdown",
   "metadata": {},
   "source": [
    "# 2. Write a Python Program to find largest element in an array?"
   ]
  },
  {
   "cell_type": "code",
   "execution_count": 8,
   "metadata": {},
   "outputs": [
    {
     "name": "stdout",
     "output_type": "stream",
     "text": [
      "Enter the range: 5\n",
      "Enter the number: 45\n",
      "Enter the number: 75\n",
      "Enter the number: 89\n",
      "Enter the number: 99\n",
      "Enter the number: 5\n",
      "The Entered array is: [45 75 89 99  5]\n",
      "The largest element in array is  99\n"
     ]
    }
   ],
   "source": [
    "import numpy as np\n",
    "n=int(input(\"Enter the range: \"))\n",
    "ls=[]\n",
    "for i in range(n):\n",
    "    ls.append(int(input(\"Enter the number: \")))\n",
    "array = np.array(ls)\n",
    "print(\"The Entered array is:\", array)\n",
    "lar=0\n",
    "for i in array:\n",
    "    if(lar<i):\n",
    "        lar=i\n",
    "print(\"The largest element in array is \", lar)"
   ]
  },
  {
   "cell_type": "markdown",
   "metadata": {},
   "source": [
    "# 3. Write a Python Program for array rotation?"
   ]
  },
  {
   "cell_type": "code",
   "execution_count": 32,
   "metadata": {},
   "outputs": [
    {
     "name": "stdout",
     "output_type": "stream",
     "text": [
      "Enter the range: 5\n",
      "Enter the number: 1\n",
      "Enter the number: 2\n",
      "Enter the number: 3\n",
      "Enter the number: 4\n",
      "Enter the number: 5\n",
      "The Entered array is: [1 2 3 4 5]\n",
      "Enter the number of rotation you need: 4\n",
      "Array after Left Rotation is  [2 3 4 5 1]\n"
     ]
    }
   ],
   "source": [
    "def LeftRotation(ar,n):\n",
    "    l=len(ar)\n",
    "    return(np.array(ar[l-n:]+ar[:l-n]))\n",
    "import numpy as np\n",
    "n=int(input(\"Enter the range: \"))\n",
    "ls=[]\n",
    "for i in range(n):\n",
    "    ls.append(int(input(\"Enter the number: \")))\n",
    "array = np.array(ls)\n",
    "print(\"The Entered array is:\", array)\n",
    "x=int(input(\"Enter the number of rotation you need: \"))\n",
    "print(\"Array after Left Rotation is \",LeftRotation(ls,x))"
   ]
  },
  {
   "cell_type": "markdown",
   "metadata": {},
   "source": [
    "# 4. Write a Python Program to Split the array and add the first part to the end"
   ]
  },
  {
   "cell_type": "code",
   "execution_count": 36,
   "metadata": {},
   "outputs": [
    {
     "name": "stdout",
     "output_type": "stream",
     "text": [
      "Enter the range: 6\n",
      "Enter the number: 1\n",
      "Enter the number: 2\n",
      "Enter the number: 3\n",
      "Enter the number: 4\n",
      "Enter the number: 5\n",
      "Enter the number: 6\n",
      "The Entered array is: [1 2 3 4 5 6]\n",
      "Array after Left Rotation is  [4 5 6 1 2 3]\n"
     ]
    }
   ],
   "source": [
    "def ArraySplit(ar):\n",
    "    l=len(ar)\n",
    "    if(l%2==0):\n",
    "        mid=int(l/2)\n",
    "    else:\n",
    "        mid=int((l/2)+1)\n",
    "    return(np.array(ar[l-mid:]+ar[:l-mid]))\n",
    "import numpy as np\n",
    "n=int(input(\"Enter the range: \"))\n",
    "ls=[]\n",
    "for i in range(n):\n",
    "    ls.append(int(input(\"Enter the number: \")))\n",
    "array = np.array(ls)\n",
    "print(\"The Entered array is:\", array)\n",
    "print(\"Array after Left Rotation is \",ArraySplit(ls))"
   ]
  },
  {
   "cell_type": "markdown",
   "metadata": {},
   "source": [
    "# 5. Write a Python Program to check if given array is Monotonic?"
   ]
  },
  {
   "cell_type": "code",
   "execution_count": 86,
   "metadata": {},
   "outputs": [
    {
     "name": "stdout",
     "output_type": "stream",
     "text": [
      "Enter the range: 5\n",
      "Enter the number: 5\n",
      "Enter the number: 10\n",
      "Enter the number: 25\n",
      "Enter the number: 20\n",
      "Enter the number: 1\n",
      "The Entered array is: [ 5 10 25 20  1]\n",
      "The Entered array is Not Monotonic\n"
     ]
    }
   ],
   "source": [
    "def IsMonotonic(ls):\n",
    "    return (all(ls[i]<=ls[i+1] for i in range(len(ls)-1)) or\n",
    "            all(ls[i]>=ls[i+1] for i in range(len(ls)-1)))\n",
    "import numpy as np\n",
    "n=int(input(\"Enter the range: \"))\n",
    "ls=[]\n",
    "for i in range(n):\n",
    "    ls.append(int(input(\"Enter the number: \")))\n",
    "array = np.array(ls)\n",
    "print(\"The Entered array is:\", array)\n",
    "res=IsMonotonic(ls)\n",
    "if(res==True):\n",
    "     print(\"The Entered array is Monotonic\")\n",
    "else:\n",
    "    print(\"The Entered array is Not Monotonic\")"
   ]
  },
  {
   "cell_type": "code",
   "execution_count": null,
   "metadata": {},
   "outputs": [],
   "source": []
  }
 ],
 "metadata": {
  "kernelspec": {
   "display_name": "Python 3",
   "language": "python",
   "name": "python3"
  },
  "language_info": {
   "codemirror_mode": {
    "name": "ipython",
    "version": 3
   },
   "file_extension": ".py",
   "mimetype": "text/x-python",
   "name": "python",
   "nbconvert_exporter": "python",
   "pygments_lexer": "ipython3",
   "version": "3.8.3"
  }
 },
 "nbformat": 4,
 "nbformat_minor": 4
}
